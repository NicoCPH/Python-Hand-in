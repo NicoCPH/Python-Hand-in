{
 "cells": [
  {
   "cell_type": "markdown",
   "metadata": {},
   "source": [
    "# Week 2"
   ]
  },
  {
   "cell_type": "markdown",
   "metadata": {},
   "source": [
    "## Assignment\n",
    "## Exercise 1\n",
    "1. Create a python file with 3 functions:\n",
    "  1. `def print_file_content(file)` that can print content of a csv file to the console\n",
    "  2. `def write_list_to_file(output_file, lst)` that can take a list of tuple and write each element to a new line in file\n",
    "    1. rewrite the function so that it gets an arbitrary number of strings instead of a list\n",
    "  3. `def read_csv(input_file)` that take a csv file and read each row into a list\n",
    "2. Add a functionality so that the file can be called from cli with 2 arguments\n",
    "  1. path to csv file\n",
    "  2. an argument `--file file_name` that if given will write the content to file_name or otherwise will print it to the console.\n",
    "3. Add a --help cli argument to describe how the module is used  \n"
   ]
  },
  {
   "cell_type": "markdown",
   "metadata": {},
   "source": [
    "## Status\n",
    "Here is a status on the handin. How far you got. What is implemented and what is not"
   ]
  },
  {
   "cell_type": "markdown",
   "metadata": {},
   "source": [
    "# Exersice 1"
   ]
  },
  {
   "cell_type": "markdown",
   "metadata": {},
   "source": [
    "## Solution part 1"
   ]
  },
  {
   "cell_type": "markdown",
   "metadata": {},
   "source": [
    "A."
   ]
  },
  {
   "cell_type": "code",
   "execution_count": 16,
   "metadata": {},
   "outputs": [],
   "source": [
    "def print_file_content(file):\n",
    "    with open(file, \"r\") as f:\n",
    "        for line in f:\n",
    "            line = line.rstrip().split(\",\")\n",
    "            print(line)"
   ]
  },
  {
   "cell_type": "markdown",
   "metadata": {},
   "source": [
    "B."
   ]
  },
  {
   "cell_type": "code",
   "execution_count": 2,
   "metadata": {},
   "outputs": [],
   "source": [
    "def write_list_to_file(output_file, lst):\n",
    "    with open(output_file, \"a\") as o:\n",
    "        for el in lst:\n",
    "            o.write(\",\".join(el) + \"\\n\")\n"
   ]
  },
  {
   "cell_type": "markdown",
   "metadata": {},
   "source": [
    "C."
   ]
  },
  {
   "cell_type": "code",
   "execution_count": 3,
   "metadata": {
    "scrolled": true
   },
   "outputs": [
    {
     "data": {
      "text/plain": [
       "[['123123'],\n",
       " ['123123'],\n",
       " ['gfefe'],\n",
       " ['213123'],\n",
       " ['d231d'],\n",
       " ['43t45345'],\n",
       " ['r4r3r34534'],\n",
       " ['44454A'],\n",
       " ['B'],\n",
       " ['CTutorialspoint'],\n",
       " ['is a'],\n",
       " ['popular'],\n",
       " ['site'],\n",
       " ['for tech learningsA'],\n",
       " ['B'],\n",
       " ['C'],\n",
       " ['Tutorialspoint'],\n",
       " ['is a'],\n",
       " ['popular'],\n",
       " ['site'],\n",
       " ['for tech learnings'],\n",
       " ['A'],\n",
       " ['B'],\n",
       " ['C'],\n",
       " ['Tutorialspoint'],\n",
       " ['is a'],\n",
       " ['popular'],\n",
       " ['site'],\n",
       " ['for tech learnings'],\n",
       " ['A'],\n",
       " ['B'],\n",
       " ['C'],\n",
       " ['Tutorialspoint'],\n",
       " ['is a'],\n",
       " ['popular'],\n",
       " ['site'],\n",
       " ['for tech learnings'],\n",
       " ['A'],\n",
       " ['B'],\n",
       " ['C'],\n",
       " ['Tutorialspoint'],\n",
       " ['is a'],\n",
       " ['popular'],\n",
       " ['site'],\n",
       " ['for tech learnings']]"
      ]
     },
     "execution_count": 3,
     "metadata": {},
     "output_type": "execute_result"
    }
   ],
   "source": [
    "import csv\n",
    "\n",
    "def read_csv(input_file):\n",
    "    new_list = []\n",
    "    \n",
    "    with open(input_file, \"r\") as f:\n",
    "        csv_reader = csv.reader(f)\n",
    "        for row in csv_reader:\n",
    "            new_list.append(row)\n",
    "    \n",
    "    return new_list\n",
    "\n",
    "read_csv(\"/home/jovyan/python_handin_template/modules/Random2.csv\")"
   ]
  },
  {
   "cell_type": "markdown",
   "metadata": {},
   "source": [
    "## Solution part 2"
   ]
  },
  {
   "cell_type": "code",
   "execution_count": 4,
   "metadata": {},
   "outputs": [],
   "source": [
    "def write_lines_to_file(output_file, lst):\n",
    "    with open(output_file, \"w\") as o:\n",
    "        for el in lst:\n",
    "            o.write(el + \"\\n\")"
   ]
  },
  {
   "cell_type": "markdown",
   "metadata": {},
   "source": [
    "A."
   ]
  },
  {
   "cell_type": "code",
   "execution_count": 5,
   "metadata": {},
   "outputs": [
    {
     "name": "stdout",
     "output_type": "stream",
     "text": [
      "[['123123', '123123'], ['gfefe', '213123', 'd231d', '43t45345', 'r4r3r34534'], ['44454A', 'B', 'CTutorialspoint', 'is a', 'popular', 'site', 'for tech learningsA', 'B', 'C'], ['Tutorialspoint', 'is a', 'popular', 'site', 'for tech learnings'], [], ['A', 'B', 'C'], [], ['Tutorialspoint', 'is a', 'popular', 'site', 'for tech learnings'], [], ['A', 'B', 'C'], ['Tutorialspoint', 'is a', 'popular', 'site', 'for tech learnings'], ['A', 'B', 'C'], ['Tutorialspoint', 'is a', 'popular', 'site', 'for tech learnings']]\r\n"
     ]
    }
   ],
   "source": [
    "!python modules/Run.py -f modules/Random.csv -o modules/Random2.csv"
   ]
  },
  {
   "cell_type": "markdown",
   "metadata": {},
   "source": [
    "B."
   ]
  },
  {
   "cell_type": "code",
   "execution_count": 6,
   "metadata": {
    "scrolled": true
   },
   "outputs": [
    {
     "name": "stdout",
     "output_type": "stream",
     "text": [
      "[['123123', '123123'], ['gfefe', '213123', 'd231d', '43t45345', 'r4r3r34534'], ['44454A', 'B', 'CTutorialspoint', 'is a', 'popular', 'site', 'for tech learningsA', 'B', 'C'], ['Tutorialspoint', 'is a', 'popular', 'site', 'for tech learnings'], [], ['A', 'B', 'C'], [], ['Tutorialspoint', 'is a', 'popular', 'site', 'for tech learnings'], [], ['A', 'B', 'C'], ['Tutorialspoint', 'is a', 'popular', 'site', 'for tech learnings'], ['A', 'B', 'C'], ['Tutorialspoint', 'is a', 'popular', 'site', 'for tech learnings']]\r\n"
     ]
    }
   ],
   "source": [
    "!python modules/run.py -f modules/Random.csv"
   ]
  },
  {
   "cell_type": "code",
   "execution_count": 7,
   "metadata": {
    "scrolled": true
   },
   "outputs": [
    {
     "name": "stdout",
     "output_type": "stream",
     "text": [
      "[['123123'], ['123123'], ['gfefe'], ['213123'], ['d231d'], ['43t45345'], ['r4r3r34534'], ['44454A'], ['B'], ['CTutorialspoint'], ['is a'], ['popular'], ['site'], ['for tech learningsA'], ['B'], ['C'], ['Tutorialspoint'], ['is a'], ['popular'], ['site'], ['for tech learnings'], ['A'], ['B'], ['C'], ['Tutorialspoint'], ['is a'], ['popular'], ['site'], ['for tech learnings'], ['A'], ['B'], ['C'], ['Tutorialspoint'], ['is a'], ['popular'], ['site'], ['for tech learnings'], ['A'], ['B'], ['C'], ['Tutorialspoint'], ['is a'], ['popular'], ['site'], ['for tech learnings']]\r\n"
     ]
    }
   ],
   "source": [
    "!python modules/run.py -f modules/Random2.csv"
   ]
  },
  {
   "cell_type": "code",
   "execution_count": 8,
   "metadata": {},
   "outputs": [
    {
     "name": "stdout",
     "output_type": "stream",
     "text": [
      "usage: run.py [-h] -f FILE [-o OUTFILE]\r\n",
      "\r\n",
      "A program that write and read from a csv file\r\n",
      "\r\n",
      "optional arguments:\r\n",
      "  -h, --help  show this help message and exit\r\n",
      "  -f FILE     csv file\r\n",
      "  -o OUTFILE  The name of the file to store the url in\r\n"
     ]
    }
   ],
   "source": [
    "!python modules/run.py -h"
   ]
  },
  {
   "cell_type": "markdown",
   "metadata": {},
   "source": [
    "## Exercise 2\n",
    "Create a module called utils.py with the following 5 functions:\n",
    "\n",
    "```python\n",
    "def get_file_names(folderpath,out=output.txt):\n",
    "    \"\"\" takes a path to a folder and writes all filenames in the folder to a specified output file\"\"\"\n",
    "\n",
    "def get_all_file_names(folderpath,out=output.txt):\n",
    "    \"\"\"takes a path to a folder and write all filenames recursively (files of all sub folders to)\"\"\"\n",
    "\n",
    "def print_line_one(file_names):\n",
    "    \"\"\"takes a list of filenames and print the first line of each\"\"\"\n",
    "\n",
    "def print_emails(file_names):\n",
    "    \"\"\"takes a list of filenames and print each line that contains an email (just look for @)\"\"\"\n",
    "\n",
    "def write_headlines(md_files, out=output.txt):\n",
    "    \"\"\"takes a list of md files and writes all headlines (lines starting with #) to a file\"\"\"\n",
    "\n",
    "```\n",
    "Make sure your module can be called both from cli and imported to another module\n",
    "Create a new module that imports utils.py and test each function."
   ]
  },
  {
   "cell_type": "markdown",
   "metadata": {},
   "source": [
    "## Solution part 1"
   ]
  },
  {
   "cell_type": "code",
   "execution_count": 3,
   "metadata": {},
   "outputs": [
    {
     "name": "stdout",
     "output_type": "stream",
     "text": [
      ".ipynb_checkpoints\n",
      "output.txt\n",
      "Random.csv\n",
      "Random2.csv\n",
      "Run.py\n",
      "textfiles\n",
      "utils.py\n",
      "Week2.py\n",
      "__init__.py\n",
      "__pycache__\n",
      "\n"
     ]
    }
   ],
   "source": [
    "from modules import utils\n",
    "from modules import Week2\n",
    "\n",
    "utils.get_file_names(\"/home/jovyan/python_handin_template/modules\")\n",
    "Week2.print_file_content(\"output.txt\")"
   ]
  },
  {
   "cell_type": "code",
   "execution_count": 4,
   "metadata": {},
   "outputs": [
    {
     "name": "stdout",
     "output_type": "stream",
     "text": [
      ".ipynb_checkpoints\n",
      "output.txt\n",
      "Random.csv\n",
      "Random2.csv\n",
      "Run.py\n",
      "textfiles\n",
      "utils.py\n",
      "Week2.py\n",
      "__init__.py\n",
      "__pycache__\n",
      "/home/jovyan/python_handin_template/modules/output.txt\n",
      "/home/jovyan/python_handin_template/modules/Random.csv\n",
      "/home/jovyan/python_handin_template/modules/Random2.csv\n",
      "/home/jovyan/python_handin_template/modules/Run.py\n",
      "/home/jovyan/python_handin_template/modules/utils.py\n",
      "/home/jovyan/python_handin_template/modules/Week2.py\n",
      "/home/jovyan/python_handin_template/modules/__init__.py\n",
      "/home/jovyan/python_handin_template/modules/textfiles/text1.txt\n",
      "/home/jovyan/python_handin_template/modules/textfiles/text2.txt\n",
      "/home/jovyan/python_handin_template/modules/textfiles/text3.txt\n",
      "/home/jovyan/python_handin_template/modules/__pycache__/utils.cpython-37.pyc\n",
      "/home/jovyan/python_handin_template/modules/__pycache__/Week2.cpython-37.pyc\n",
      "/home/jovyan/python_handin_template/modules/__pycache__/__init__.cpython-37.pyc\n",
      "\n"
     ]
    }
   ],
   "source": [
    "from modules import utils\n",
    "from modules import Week2\n",
    "            \n",
    "utils.get_all_file_names(\"/home/jovyan/python_handin_template/modules\")\n",
    "Week2.print_file_content(\"output.txt\")"
   ]
  },
  {
   "cell_type": "code",
   "execution_count": 11,
   "metadata": {},
   "outputs": [
    {
     "name": "stdout",
     "output_type": "stream",
     "text": [
      "Random2.csv\n",
      "\n",
      ".ipynb_checkpoints\n",
      "\n",
      "output.txt\n",
      "\n"
     ]
    }
   ],
   "source": [
    "from modules import utils\n",
    "from modules import Week2\n",
    "file_names = ['/home/jovyan/python_handin_template/modules/textfiles/text1.txt',\n",
    "             '/home/jovyan/python_handin_template/modules/textfiles/text2.txt',\n",
    "             '/home/jovyan/python_handin_template/modules/textfiles/text3.txt']\n",
    "\n",
    "utils.print_line_one(file_names)"
   ]
  },
  {
   "cell_type": "code",
   "execution_count": 12,
   "metadata": {},
   "outputs": [
    {
     "name": "stdout",
     "output_type": "stream",
     "text": [
      "hej her er en Email hejsa@hejsa.com\n",
      "\n"
     ]
    }
   ],
   "source": [
    "from modules import utils\n",
    "from modules import Week2\n",
    "file_names = ['/home/jovyan/python_handin_template/modules/textfiles/text1.txt',\n",
    "             '/home/jovyan/python_handin_template/modules/textfiles/text2.txt',\n",
    "             '/home/jovyan/python_handin_template/modules/textfiles/text3.txt']\n",
    "\n",
    "utils.print_emails(file_names)"
   ]
  },
  {
   "cell_type": "code",
   "execution_count": 2,
   "metadata": {},
   "outputs": [
    {
     "name": "stdout",
     "output_type": "stream",
     "text": [
      "#FEDT!\n",
      "##hejsa\n",
      "#min fil\n"
     ]
    }
   ],
   "source": [
    "import re\n",
    "from modules import Week2\n",
    "from modules import utils\n",
    "file_names = ['/home/jovyan/python_handin_template/modules/textfiles/text1.txt',\n",
    "             '/home/jovyan/python_handin_template/modules/textfiles/text2.txt',\n",
    "             '/home/jovyan/python_handin_template/modules/textfiles/text3.txt']\n",
    "\n",
    "utils.write_headlines(file_names)\n",
    "Week2.print_file_content(\"output.txt\")"
   ]
  }
 ],
 "metadata": {
  "kernelspec": {
   "display_name": "Python 3",
   "language": "python",
   "name": "python3"
  },
  "language_info": {
   "codemirror_mode": {
    "name": "ipython",
    "version": 3
   },
   "file_extension": ".py",
   "mimetype": "text/x-python",
   "name": "python",
   "nbconvert_exporter": "python",
   "pygments_lexer": "ipython3",
   "version": "3.7.6"
  }
 },
 "nbformat": 4,
 "nbformat_minor": 4
}
