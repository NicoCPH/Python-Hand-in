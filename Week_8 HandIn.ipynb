{
 "cells": [
  {
   "cell_type": "markdown",
   "metadata": {},
   "source": [
    "# Handin week 8\n",
    "\n",
    "\n",
    "## Exercise 1\n",
    "1. Lav en RESTful webservice med FLASK som har et GET og POST endpoint.\n",
    "\n",
    "## Exercise 2\n",
    "1. Få fat i data fra \"https://api.chucknorris.io/jokes/random\" med request.get()\n",
    "2. Filtrer dataen så resultatet er en string med \"value\" og brug POST endpointet til at persistere til DB.\n",
    "\n",
    "## Exercise 3\n",
    "1. Brug GET endpoint til at hente data op fra DB.\n",
    "2. Send et response med et JSON objekt med {text: \"Random Joke\", value: \"resultat fra punkt 1.\"}.\n",
    "\n",
    "### By Group 1, E:\n",
    "- Benjamin Choleva (cph-bc105@cphbusiness.dk)\n",
    "- Nicolas Malte Johan Allesøe (cph-na157@cphbusiness.dk)\n",
    "- Christoffer Kofoed Foldager (cph-cf161@cphbusiness.dk)\n",
    "- Andreas Maxim Arenfeldt Andersen (cph-aa344@cphbusiness.dk)"
   ]
  },
  {
   "cell_type": "markdown",
   "metadata": {},
   "source": [
    "## Status\n",
    "Done"
   ]
  },
  {
   "cell_type": "markdown",
   "metadata": {},
   "source": [
    "## Solution Ex1"
   ]
  },
  {
   "cell_type": "code",
   "execution_count": 1,
   "metadata": {},
   "outputs": [
    {
     "name": "stdout",
     "output_type": "stream",
     "text": [
      "Hello, World from flask server!\n"
     ]
    }
   ],
   "source": [
    "import requests as req\n",
    "import sqlalchemy as s_a\n",
    "\n",
    "\n",
    "#Move the file \"flask_app_week_8.py\" from /modules/ into /flask/ if its not already there.\n",
    "#Open a terminal on the notebook folder and type: docker exec -it -e FLASK_APP=\"flask/flask_app_week_8.py\" notebookserver bash\n",
    "#Then type: flask run --host=0.0.0.0\n",
    "#Now our RESTful webservice is running on http://0.0.0.0:5000/  -- visit /flask_app/ to get a \"Hello\"\n",
    "\n",
    "#Here is a hello message. ;) \n",
    "print(req.get(\"http://0.0.0.0:5000/flask_app/\").text)"
   ]
  },
  {
   "cell_type": "code",
   "execution_count": 2,
   "metadata": {},
   "outputs": [
    {
     "name": "stdout",
     "output_type": "stream",
     "text": [
      "{'categories': ['explicit'], 'created_at': '2020-01-05 13:42:18.823766', 'icon_url': 'https://assets.chucknorris.host/img/avatar/chuck-norris.png', 'id': '8hbrtDUcRtOKxqay1qxGpw', 'updated_at': '2020-01-05 13:42:18.823766', 'url': 'https://api.chucknorris.io/jokes/8hbrtDUcRtOKxqay1qxGpw', 'value': 'Chuck Norris falcon punched Jonah Falcon for having such a tiny dick.'}\n",
      "\n",
      " Heres the joke on its own: Chuck Norris falcon punched Jonah Falcon for having such a tiny dick.\n"
     ]
    }
   ],
   "source": [
    "#Fetching a joke\n",
    "fetch = req.get(\"https://api.chucknorris.io/jokes/random\").json()\n",
    "print(fetch)\n",
    "#Getting the value\n",
    "joke = fetch.get('value')\n",
    "print(\"\\n Heres the joke on its own: \" + joke)"
   ]
  },
  {
   "cell_type": "code",
   "execution_count": 3,
   "metadata": {},
   "outputs": [
    {
     "data": {
      "text/plain": [
       "'\"Succesfully saved joke: Chuck Norris falcon punched Jonah Falcon for having such a tiny dick.\"\\n'"
      ]
     },
     "execution_count": 3,
     "metadata": {},
     "output_type": "execute_result"
    }
   ],
   "source": [
    "#Posting the data to our database with post endpoint\n",
    "req.post(\"http://0.0.0.0:5000/jokes/\", json=joke).text"
   ]
  },
  {
   "cell_type": "code",
   "execution_count": 26,
   "metadata": {},
   "outputs": [],
   "source": [
    "#Getting a random joke from our database. \n",
    "joke = req.get(\"http://0.0.0.0:5000/jokes/get_rand_joke\").text"
   ]
  },
  {
   "cell_type": "code",
   "execution_count": 5,
   "metadata": {},
   "outputs": [
    {
     "name": "stdout",
     "output_type": "stream",
     "text": [
      "[\"Chuck Norris is the only man to ever win a game of chess in one move. A round-house kick to the head!\"]\n",
      "\n"
     ]
    }
   ],
   "source": [
    "print(joke)"
   ]
  },
  {
   "cell_type": "code",
   "execution_count": 27,
   "metadata": {},
   "outputs": [],
   "source": [
    "#Print all jokes\n",
    "all = req.get(\"http://0.0.0.0:5000/jokes/get_all\").json()"
   ]
  },
  {
   "cell_type": "code",
   "execution_count": 30,
   "metadata": {},
   "outputs": [
    {
     "name": "stdout",
     "output_type": "stream",
     "text": [
      "[1, \"Chuck Norris dosn't eat submarine sandwiches, he eats submarines...\"]\n",
      "[2, None]\n",
      "[3, \"Chuck Norris dosn't eat submarine sandwiches, he eats submarines...\"]\n",
      "[4, 'Pac-Man was based on Chuck Norris. They both eat souls.']\n",
      "[5, \"How many roads must a man walk down, before you can call him a man? Don't ask Chuck Norris, he was considered a man by age four.\"]\n",
      "[6, \"All of Chuck Norris' fingers are trigger fingers.\"]\n",
      "[7, 'Chuck Norris is the only man to ever win a game of chess in one move. A round-house kick to the head!']\n",
      "[8, 'Chuck Norris created Snooki by mercilessly bitch slapping Nancy Grace into a New Jersy slut.']\n",
      "[9, 'After barely being beat in a foot race by a cheetah, Chuck Norris pointed his finger at the fast cat and said,\"Man, you\\'re such a cheetah!\" They paused for a second and then burst out laughing, as they left together to go eat a zebra or something..,']\n",
      "[10, 'Chuck Norris falcon punched Jonah Falcon for having such a tiny dick.']\n"
     ]
    }
   ],
   "source": [
    "for joke in all:\n",
    "    print(joke)"
   ]
  }
 ],
 "metadata": {
  "kernelspec": {
   "display_name": "Python 3",
   "language": "python",
   "name": "python3"
  },
  "language_info": {
   "codemirror_mode": {
    "name": "ipython",
    "version": 3
   },
   "file_extension": ".py",
   "mimetype": "text/x-python",
   "name": "python",
   "nbconvert_exporter": "python",
   "pygments_lexer": "ipython3",
   "version": "3.7.6"
  }
 },
 "nbformat": 4,
 "nbformat_minor": 4
}