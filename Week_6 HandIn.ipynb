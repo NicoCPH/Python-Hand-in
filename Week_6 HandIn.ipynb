{
 "cells": [
  {
   "cell_type": "markdown",
   "metadata": {},
   "source": [
    "# Week 6 handin"
   ]
  },
  {
   "cell_type": "markdown",
   "metadata": {},
   "source": [
    "# Handin Exercise 6\n",
    "\n",
    "Create a module containing a class with the following methods:\n",
    "1. __init__(self, url_list)\n",
    "2. download(url,filename) raises NotFoundException when url returns 404\n",
    "3. multi_download() uses threads to download multiple urls as text and stores filenames as a property\n",
    "4. __iter__() returns an iterator\n",
    "5. __next__() returns the next filename (and stops when there are no more)\n",
    "6. urllist_generator() returns a generator to loop through the urls\n",
    "7. avg_vowels(text) - a rough estimate on readability returns average number of vowels in the words of the text\n",
    "8. hardest_read() returns the filename of the text with the highest vowel score (use all the cpu cores on the computer for this work.\n",
    "\n",
    "### Ex 2\n",
    "Create a notebook and import your module from above\n",
    "1. Find 10 books on https://www.gutenberg.org/browse/scores/top and download them using an object of the class you just created before\n",
    "2. Test the different methods of your class\n",
    "3. Make a bar plot with a sorted list of books on x-axis and avg vowels on y-axis"
   ]
  },
  {
   "cell_type": "markdown",
   "metadata": {},
   "source": [
    "## 02 Status\n",
    "Alt er lavet!"
   ]
  },
  {
   "cell_type": "markdown",
   "metadata": {},
   "source": [
    "## 03 Solution part 1"
   ]
  },
  {
   "cell_type": "code",
   "execution_count": 1,
   "metadata": {},
   "outputs": [],
   "source": [
    "from modules import Week6 "
   ]
  },
  {
   "cell_type": "code",
   "execution_count": 2,
   "metadata": {
    "scrolled": false
   },
   "outputs": [
    {
     "data": {
      "text/plain": [
       "'modules/textfiles/A Modest Proposal.txt'"
      ]
     },
     "execution_count": 2,
     "metadata": {},
     "output_type": "execute_result"
    }
   ],
   "source": [
    "book_url_list = ['https://www.gutenberg.org/files/1342/1342-0.txt',\n",
    "                'http://www.gutenberg.org/cache/epub/16328/pg16328.txt',\n",
    "                'https://www.gutenberg.org/files/25344/25344-0.txt',\n",
    "                'https://www.gutenberg.org/files/1250/1250-0.txt',\n",
    "                'https://www.gutenberg.org/files/84/84-0.txt',\n",
    "                'https://www.gutenberg.org/files/1952/1952-0.txt',\n",
    "                'https://www.gutenberg.org/files/11/11-0.txt',\n",
    "                'http://www.gutenberg.org/cache/epub/2542/pg2542.txt',\n",
    "                'http://www.gutenberg.org/cache/epub/23/pg23.txt',\n",
    "                'https://www.gutenberg.org/files/1080/1080-0.txt']\n",
    "url_list= [\"https://api.chucknorris.io/jokes/random\",\"https://api.chucknorris.io/jokes/random\",\"https://api.chucknorris.io/jokes/random\",\"https://api.chucknorris.io/jokes/random\",\"https://api.chucknorris.io/jokes/random\",\"https://api.chucknorris.io/jokes/random\"]\n",
    "w = Week6.TextComparer(book_url_list)\n",
    "#w.download(\"https://api.chucknorris.io/jokes/random\")\n",
    "\n",
    "w.multi_download(book_url_list)\n",
    "\n",
    "w.hardest_read()"
   ]
  }
 ],
 "metadata": {
  "kernelspec": {
   "display_name": "Python 3",
   "language": "python",
   "name": "python3"
  },
  "language_info": {
   "codemirror_mode": {
    "name": "ipython",
    "version": 3
   },
   "file_extension": ".py",
   "mimetype": "text/x-python",
   "name": "python",
   "nbconvert_exporter": "python",
   "pygments_lexer": "ipython3",
   "version": "3.7.6"
  }
 },
 "nbformat": 4,
 "nbformat_minor": 4
}
