{
 "cells": [
  {
   "cell_type": "markdown",
   "metadata": {},
   "source": [
    "# Week 4 handin"
   ]
  },
  {
   "cell_type": "markdown",
   "metadata": {},
   "source": [
    "# Week 4 Exercise with Numpy\n",
    "\n",
    "Use only numpy (not pandas) in these exercises\n",
    "#### Exercise 1\n",
    "1. Open the file './data/befkbhalderstatkode.csv'\n",
    "2. Turn the csv file into a numpy ndarray with `np.genfromtxt(filename, delimiter=',', dtype=np.uint, skip_header=1)`\n",
    "3. Using this data:\n",
    "```python\n",
    "neighb = {1: 'Indre By', 2: 'Østerbro', 3: 'Nørrebro', 4: 'Vesterbro/Kgs. Enghave', \n",
    "          5: 'Valby', 6: 'Vanløse', 7: 'Brønshøj-Husum', 8: 'Bispebjerg', 9: 'Amager Øst', \n",
    "          10: 'Amager Vest', 99: 'Udenfor'}\n",
    "```\n",
    "Find out how many people lived in each of the 11 areas in 2015\n",
    "4. Make a bar plot to show the size of each city area from the smallest to the largest\n",
    "5. Create a boolean mask to find out how many people above 65 years lived in Copenhagen in 2015\n",
    "6. How many of those were from the other nordic countries (not dk)\n",
    "7. Make a line plot showing the changes of number of people in vesterbro and østerbro from 1992 to 2015\n",
    "\n",
    "#### Exercise 2  A bit harder (Extra only if you have the time)\n",
    "\n",
    "1. From \"Danmarks Statistik\" download demographic data here:\n",
    "https://api.statbank.dk/v1/data/FOLK1A/CSV?valuePresentation=Code&delimiter=Semicolon&OMR%C3%85DE=000%2C084%2C147%2C400%2C085%2C083%2C082%2C081%2C851%2C461%2C561%2C751&K%C3%98N=1%2C2&ALDER=0%2C1%2C2%2C3%2C4%2C5%2C6%2C7%2C8%2C9%2C10%2C11%2C12%2C13%2C14%2C15%2C16%2C17%2C18%2C19%2C20%2C21%2C22%2C23%2C24%2C25%2C26%2C27%2C28%2C29%2C30%2C31%2C32%2C33%2C34%2C35%2C36%2C37%2C3%2C39%2C40%2C41%2C42%2C43%2C44%2C45%2C46%2C47%2C48%2C49%2C50%2C51%2C52%2C53%2C54%2C55%2C56%2C57%2C58%2C59%2C60%2C61%2C62%2C63%2C64%2C65%2C66%2C67%2C68%2C69%2C70%2C71%2C72%2C73%2C74%2C75%2C76%2C77%2C78%2C79%2C80%2C81%2C82%2C83%2C84%2C85%2C86%2C87%2C88%2C89%2C90%2C91%2C92%2C93%2C94%2C95%2C96%2C97%2C98%2C99%2C100&Tid=2008K1%2C2009K1%2C2010K1%2C2011K1%2C2012K1%2C2013K1%2C2014K1%2C2015K1%2C2016K1%2C2017K1%2C2018K1%2C2019K1%2C2020K1\n",
    "\n",
    "\n",
    "2. clean up the data so it only contains numbers. (If you find this hard to do then Pandas can help (we will cover it next week)\n",
    "```python\n",
    "import pandas as pd \n",
    "url = 'url from above here'\n",
    "df = pd.read_csv(url,sep=';')\n",
    "df['TID'] = df['TID'].map(lambda x:x[:-2]) #cut the last 2 characters\n",
    "df.to_csv('demografic_cleaned.csv',header=False, index=False)\n",
    "```\n",
    "Now you have csv data with columns: OMRÅDE;KØN;ALDER;TID;INDHOLD\n",
    "3. Now load your demographic data with numpy. (Hint: use np.loadtxt() with dtype and delimiter).\n",
    "4. Use file: BY_KODER_demographics.csv to get cities from the city codes\n",
    "5. Now find out which city in 2020 has the highest percentage of men (gender code 1),(Hint: create a function to return summed up data by city code ala: def summed_by_city(city_code): returning pct_male \n",
    "6. Create a line chart with 5 lines showing population changes in the 5 largest cities from 2008 to 2020\n"
   ]
  },
  {
   "cell_type": "markdown",
   "metadata": {},
   "source": [
    "## 02 Status\n",
    "Alt er lavet!"
   ]
  },
  {
   "cell_type": "markdown",
   "metadata": {},
   "source": [
    "## 03 Solution part 1"
   ]
  },
  {
   "cell_type": "code",
   "execution_count": 69,
   "metadata": {},
   "outputs": [],
   "source": [
    "import numpy as np\n",
    "import matplotlib.pyplot as plt"
   ]
  },
  {
   "cell_type": "code",
   "execution_count": 228,
   "metadata": {},
   "outputs": [],
   "source": [
    "# read data from csv file into 2d numpy array\n",
    "filename = '../data/befkbhalderstatkode.csv'\n",
    "\n",
    "bef_stats_df = np.genfromtxt(filename, delimiter=',', dtype=np.uint, skip_header=1)\n",
    "\n",
    "neighb = {1: 'Indre By', 2: 'Østerbro', 3: 'Nørrebro', 4: 'Vesterbro/Kgs. Enghave', \n",
    "       5: 'Valby', 6: 'Vanløse', 7: 'Brønshøj-Husum', 8: 'Bispebjerg', 9: 'Amager Øst', \n",
    "       10: 'Amager Vest', 99: 'Udenfor'}\n",
    "dd = bef_stats_df\n",
    "def number_of_people_per_neighbourhood(n, mask):\n",
    "    all_people_in_given_n = dd[mask & (dd[:,1] == n)]\n",
    "    sum_of_people = all_people_in_given_n[:,4].sum() # index 4 is no of 'PERSONER'\n",
    "    return sum_of_people\n",
    "\n",
    "\n",
    "Human_in_city = (dd[:,0] == 2015)\n",
    "Human_in_citys = np.array([number_of_people_per_neighbourhood(n, Human_in_city) for n in neighb.keys()])\n",
    "\n",
    "neigbo = neighb.values()\n",
    "\n",
    "def humans_in_citys():\n",
    "    count = 1\n",
    "    for persons in Human_in_citys:\n",
    "        print(\"Persons \", persons, \"in\", neighb.get(count))\n",
    "        count +=1\n",
    "\n",
    "\n",
    "def var_plot(x,y):\n",
    "    plt.bar(x, y, width=0.5, align='center')\n",
    "    plt.xticks(rotation=45, horizontalalignment='right', fontweight='light')\n",
    "    plt.show()\n",
    "\n",
    "def above_65():\n",
    "    boolean_mask = ((dd[:,2] >= 65) & (dd[:,0] == 2015)) \n",
    "    Human_in_citys_above_65 = np.array([number_of_people_per_neighbourhood(n, boolean_mask) for n in neighb.keys()])\n",
    "    return Human_in_citys_above_65\n",
    "\n",
    "def above_65_and_nordic():\n",
    "    boolean_mask = ((dd[:,2] >= 65) & (dd[:,0] == 2015)) \n",
    "    mask_nordic = ((dd[:,3] == 5120) | (dd[:,3] == 5110) | (dd[:,3] == 5106) | (dd[:,3] == 5104) & boolean_mask)\n",
    "    Human_in_citys_above_65 = np.array([number_of_people_per_neighbourhood(n, mask_nordic) for n in neighb.keys()])\n",
    "    return Human_in_citys_above_65\n"
   ]
  },
  {
   "cell_type": "code",
   "execution_count": 229,
   "metadata": {},
   "outputs": [],
   "source": [
    "def people_in_vest_and_east_bro():\n",
    "    print(number_of_people_per_given_neighbourhood())\n",
    "    unique_years = np.unique(dd[:,0]) # all yś where x is index 0 (which is year)\n",
    "    Human_in_citys_above_65 = np.array([number_of_people_per_given_neighbourhood()])\n",
    "    print(Human_in_citys_above_65)\n",
    "    plt.plot(Human_in_citys_above_65)\n",
    "    plt.show()"
   ]
  },
  {
   "cell_type": "code",
   "execution_count": 230,
   "metadata": {
    "scrolled": false
   },
   "outputs": [
    {
     "name": "stdout",
     "output_type": "stream",
     "text": [
      "[]\n",
      "0\n",
      "[]\n",
      "[0]\n"
     ]
    },
    {
     "data": {
      "image/png": "[encoded data removed]",
      "text/plain": [
       "<Figure size 432x288 with 1 Axes>"
      ]
     },
     "metadata": {
      "needs_background": "light"
     },
     "output_type": "display_data"
    }
   ],
   "source": [
    "##humans_in_citys()\n",
    "#var_plot(neigbo,Human_in_citys)\n",
    "#var_plot(neigbo,above_65())\n",
    "#var_plot(neigbo, above_65_and_nordic())\n",
    "people_in_vest_and_east_bro()"
   ]
  },
  {
   "cell_type": "code",
   "execution_count": 145,
   "metadata": {},
   "outputs": [],
   "source": [
    "country_codes = {0: 'Uoplyst (1)', 5001: 'Uoplyst (2)', 5100: 'Danmark', 5101: 'Grønland', \n",
    "                 5102: 'Udlandet uoplyst', 5103: 'Statsløs', 5104: 'Finland', \n",
    "                 5105: 'Island, ligeret dansk', 5106: 'Island', 5107: 'Liechtenstein', \n",
    "                 5108: 'Luxembourg', 5109: 'Monaco', 5110: 'Norge', 5114: 'Europa uoplyst', \n",
    "                 5115: 'Kongelig', 5120: 'Sverige', 5122: 'Albanien', 5124: 'Andorra', \n",
    "                 5126: 'Belgien', 5128: 'Bulgarien', 5129: 'Tjekkoslovakiet', \n",
    "                 5130: 'Frankrig', 5134: 'Grækenland', 5140: 'Nederlandene', \n",
    "                 5142: 'Irland', 5150: 'Italien', 5151: 'Serbien og Montenegro', \n",
    "                 5152: 'Jugoslavien', 5153: 'Malta', 5154: 'Polen', 5156: 'Portugal', \n",
    "                 5158: 'Rumænien', 5159: 'San Marino', 5160: 'Schweiz', \n",
    "                 5162: 'Sovjetunionen', 5164: 'Spanien', 5170: 'Storbritannien', \n",
    "                 5172: 'Tyrkiet', 5174: 'Ungarn', 5176: 'Vatikanstaten', 5180: 'Tyskland', \n",
    "                 5182: 'Østrig', 5199: 'Europa uoplyst', 5202: 'Algeriet', 5204: 'Angola', \n",
    "                 5207: 'Botswana', 5213: 'Burundi', 5214: 'Etiopien', 5215: 'Comorerne', \n",
    "                 5216: 'Eritrea', 5222: 'Gambia', 5228: 'Ghana', 5230: 'Ækvatorialguinea', \n",
    "                 5231: 'Guinea-Bissau', 5232: 'Guinea', 5233: 'Kap Verde', 5234: 'Kenya', \n",
    "                 5235: 'Lesotho', 5236: 'Liberia', 5238: 'Libyen', 5240: 'Mozambique', \n",
    "                 5242: 'Madagaskar', 5243: 'Mali', 5244: 'Marokko', 5245: 'Mauritius', \n",
    "                 5246: 'Nigeria', 5247: 'Namibia', 5248: 'Marshalløerne', \n",
    "                 5255: 'Sierra Leone', 5258: 'Sudan', 5259: 'Swaziland', 5260: 'Sydsudan', \n",
    "                 5262: 'Sydafrika', 5266: 'Tanzania', 5268: 'Tunesien', 5269: 'Uganda', \n",
    "                 5272: 'Egypten', 5273: 'Tuvalu', 5274: 'Kiribati', 5275: 'Vanuatu', \n",
    "                 5276: 'Centralafrikanske Republik', 5277: 'Cameroun', \n",
    "                 5278: 'Congo, Demokratiske Republik', 5279: 'Congo, Republikken', \n",
    "                 5281: 'Benin', 5282: 'Elfenbenskysten', 5283: 'Gabon', 5284: 'Mauretanien', \n",
    "                 5285: 'Niger', 5287: 'Rwanda', 5288: 'Senegal', 5289: 'Somalia', \n",
    "                 5292: 'Tchad', 5293: 'Togo', 5294: 'Burkina Faso', 5295: 'Zimbabwe', \n",
    "                 5296: 'Zambia', 5297: 'Malawi', 5298: 'Seychellerne', \n",
    "                 5299: 'Afrika uoplyst', 5302: 'Argentina', 5303: 'Bahamas', \n",
    "                 5304: 'Bolivia', 5305: 'Barbados', 5306: 'Brasilien', 5308: 'Guyana', \n",
    "                 5309: 'Antigua og Barbuda', 5310: 'Nauru', \n",
    "                 5311: 'Skt. Vincent og Grenadinerne', 5314: 'Canada', 5316: 'Chile', \n",
    "                 5318: 'Colombia', 5319: 'Syd- og Mellemamerika uoplyst', \n",
    "                 5322: 'Costa Rica', 5324: 'Cuba', 5326: 'Dominikanske Republik', \n",
    "                 5328: 'Ecuador', 5338: 'Guatemala', 5339: 'Grenada', 5342: 'Haiti', \n",
    "                 5344: 'Surinam', 5345: 'Dominica', 5347: 'Skt. Lucia', 5348: 'Honduras', \n",
    "                 5352: 'Jamaica', 5354: 'Mexico', 5356: 'Nicaragua', 5358: 'Panama', \n",
    "                 5364: 'Paraguay', 5366: 'Peru', 5372: 'El Salvador', \n",
    "                 5374: 'Trinidad og Tobago', 5376: 'Uruguay', 5390: 'USA', \n",
    "                 5392: 'Venezuela', 5395: 'Vestindiske Øer', 5397: 'Nordamerika uoplyst', \n",
    "                 5398: 'Syd- og Mellemamerika uoplyst', 5402: 'Yemen', \n",
    "                 5403: 'Forenede Arabiske Emirater', 5404: 'Afghanistan', 5406: 'Bahrain', \n",
    "                 5408: 'Bhutan', 5410: 'Bangladesh', 5412: 'Brunei', 5414: 'Myanmar', \n",
    "                 5416: 'Cambodja', 5418: 'Sri Lanka', 5422: 'Cypern', 5424: 'Taiwan', \n",
    "                 5432: 'Indien', 5434: 'Indonesien', 5435: 'Østtimor', 5436: 'Irak', \n",
    "                 5438: 'Iran', 5442: 'Israel', 5444: 'Japan', 5446: 'Jordan', 5448: 'Kina', \n",
    "                 5452: 'Kuwait', 5454: 'Laos', 5456: 'Libanon', 5457: 'Maldiverne', \n",
    "                 5458: 'Malaysia', 5459: 'Mongoliet', 5462: 'Oman', 5464: 'Nepal', \n",
    "                 5466: 'Nordkorea', 5468: 'Vietnam (1)', 5471: 'Asien uoplyst', \n",
    "                 5472: 'Pakistan', 5474: 'Filippinerne', 5478: 'Saudi-Arabien', \n",
    "                 5482: 'Singapore', 5484: 'Sydkorea', 5486: 'Syrien', \n",
    "                 5487: 'Mellemøsten uoplyst', 5488: 'Vietnam (2)', 5492: 'Thailand', \n",
    "                 5496: 'Qatar', 5499: 'Asien uoplyst', 5502: 'Australien', 5505: 'Tonga', \n",
    "                 5508: 'Fiji', 5514: 'New Zealand', 5522: 'Samoa', 5525: 'Djibouti', \n",
    "                 5526: 'Belize', 5534: 'Papua Ny Guinea', 5599: 'Øer i Stillehavet', \n",
    "                 5607: 'Estland', 5609: 'Letland', 5611: 'Litauen', \n",
    "                 5621: 'Sao Tome og Principe', 5623: 'Salomonøerne', \n",
    "                 5625: 'Skt. Kitts og Nevis', 5700: 'Rusland', 5704: 'Ukraine', \n",
    "                 5706: 'Hviderusland', 5708: 'Armenien', 5710: 'Aserbajdsjan', \n",
    "                 5712: 'Moldova', 5714: 'Usbekistan', 5716: 'Kasakhstan', \n",
    "                 5718: 'Turkmenistan', 5720: 'Kirgisistan', 5722: 'Tadsjikistan', \n",
    "                 5724: 'Georgien', 5750: 'Kroatien', 5752: 'Slovenien', \n",
    "                 5754: 'Bosnien-Hercegovina', 5756: 'Makedonien', 5757: 'Serbien', \n",
    "                 5758: 'Jugoslavien, Forbundsrepublikken', 5759: 'Montenegro', \n",
    "                 5761: 'Kosovo', 5776: 'Tjekkiet', 5778: 'Slovakiet', 5779: 'Cookøerne', \n",
    "                 5800: 'Land ukendt (2)', 5901: 'Færøerne uoplyst', 5902: 'Færøerne', \n",
    "                 5999: 'Land ukendt (1)'}"
   ]
  }
 ],
 "metadata": {
  "kernelspec": {
   "display_name": "Python 3",
   "language": "python",
   "name": "python3"
  },
  "language_info": {
   "codemirror_mode": {
    "name": "ipython",
    "version": 3
   },
   "file_extension": ".py",
   "mimetype": "text/x-python",
   "name": "python",
   "nbconvert_exporter": "python",
   "pygments_lexer": "ipython3",
   "version": "3.7.6"
  }
 },
 "nbformat": 4,
 "nbformat_minor": 4
}
